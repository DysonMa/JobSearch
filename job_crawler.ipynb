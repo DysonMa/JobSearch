{
 "cells": [
  {
   "cell_type": "code",
   "execution_count": null,
   "metadata": {},
   "outputs": [],
   "source": [
    "# 104非同步爬蟲"
   ]
  },
  {
   "cell_type": "code",
   "execution_count": 6,
   "metadata": {},
   "outputs": [],
   "source": [
    "import requests as rq\n",
    "from pyquery import PyQuery as pq\n",
    "import re\n",
    "import time\n",
    "import pandas as pd\n",
    "from aiohttp import ClientSession\n",
    "import asyncio\n",
    "import nest_asyncio\n",
    "nest_asyncio.apply()\n",
    "import sqlalchemy as sa"
   ]
  },
  {
   "cell_type": "code",
   "execution_count": 2,
   "metadata": {
    "scrolled": true
   },
   "outputs": [
    {
     "name": "stdout",
     "output_type": "stream",
     "text": [
      "1.3784711360931396\n"
     ]
    }
   ],
   "source": [
    "async def main(keyword, end_page):\n",
    "    global df\n",
    "    df = pd.DataFrame()\n",
    "    urls = [f'https://www.104.com.tw/jobs/search/?keyword={keyword}&order=1&page={i}&jobsource=2018indexpoc&ro=0' for i in range(1,end_page+1)]\n",
    "    async with ClientSession() as session:\n",
    "        tasks = [asyncio.create_task(fetch(url, session)) for url in urls]  # 建立任務清單\n",
    "        await asyncio.gather(*tasks)  # 打包任務清單及執行\n",
    "\n",
    "async def fetch(url, session):\n",
    "    global df\n",
    "    date, title, company, salary = [], [], [], []\n",
    "    async with session.get(url) as response:  #非同步發送請求\n",
    "        text = await response.text()\n",
    "        doc = pq(text)\n",
    "        for each in doc('.b-block__left').items():\n",
    "            if each('.b-tit a'):\n",
    "                if each('.b-tit__date').text():\n",
    "                    date.append(each('.b-tit__date').text())\n",
    "                else:\n",
    "                    date.append('-')\n",
    "                title.append(each('.b-tit .js-job-link').text())\n",
    "                company.append(each('.b-list-inline.b-clearfix a').text())\n",
    "                salary.append(each('.b-tag--default:nth-child(1)').text())\n",
    "        data_dict = dict(zip(['刊登日期','職稱','公司名稱','薪資'],[date,title,company,salary]))\n",
    "        df = df.append(pd.DataFrame(data_dict))\n",
    "        return df\n",
    "\n",
    "loop = asyncio.get_event_loop()  #建立事件迴圈(Event Loop)\n",
    "start = time.time()\n",
    "loop.run_until_complete(main('python', 3))  #執行協程(coroutine)\n",
    "stop = time.time()\n",
    "print(stop-start)"
   ]
  },
  {
   "cell_type": "code",
   "execution_count": 4,
   "metadata": {
    "scrolled": true
   },
   "outputs": [
    {
     "data": {
      "text/html": [
       "<div>\n",
       "<style scoped>\n",
       "    .dataframe tbody tr th:only-of-type {\n",
       "        vertical-align: middle;\n",
       "    }\n",
       "\n",
       "    .dataframe tbody tr th {\n",
       "        vertical-align: top;\n",
       "    }\n",
       "\n",
       "    .dataframe thead th {\n",
       "        text-align: right;\n",
       "    }\n",
       "</style>\n",
       "<table border=\"1\" class=\"dataframe\">\n",
       "  <thead>\n",
       "    <tr style=\"text-align: right;\">\n",
       "      <th></th>\n",
       "      <th>刊登日期</th>\n",
       "      <th>職稱</th>\n",
       "      <th>公司名稱</th>\n",
       "      <th>薪資</th>\n",
       "    </tr>\n",
       "  </thead>\n",
       "  <tbody>\n",
       "    <tr>\n",
       "      <th>0</th>\n",
       "      <td>-</td>\n",
       "      <td>SSD SOC Design Verification Engineer, (Princip...</td>\n",
       "      <td>Western Digital_(HGST)新加坡商昱科環球儲存股份有限公司台灣分公司新竹營業所</td>\n",
       "      <td>待遇面議</td>\n",
       "    </tr>\n",
       "    <tr>\n",
       "      <th>1</th>\n",
       "      <td>-</td>\n",
       "      <td>DevOps Engineer</td>\n",
       "      <td>104人力銀行_一零四資訊科技股份有限公司</td>\n",
       "      <td>待遇面議</td>\n",
       "    </tr>\n",
       "    <tr>\n",
       "      <th>2</th>\n",
       "      <td>-</td>\n",
       "      <td>全端軟體開發工程師</td>\n",
       "      <td>科熱臺灣有限公司</td>\n",
       "      <td>待遇面議</td>\n",
       "    </tr>\n",
       "    <tr>\n",
       "      <th>15</th>\n",
       "      <td>10/07</td>\n",
       "      <td>python 後端工程師</td>\n",
       "      <td>艾迪恩科技有限公司</td>\n",
       "      <td>月薪40,000~65,000元</td>\n",
       "    </tr>\n",
       "    <tr>\n",
       "      <th>6</th>\n",
       "      <td>11/04</td>\n",
       "      <td>Software Engineer (Python)</td>\n",
       "      <td>Viscovery_創意引晴股份有限公司</td>\n",
       "      <td>待遇面議</td>\n",
       "    </tr>\n",
       "    <tr>\n",
       "      <th>...</th>\n",
       "      <td>...</td>\n",
       "      <td>...</td>\n",
       "      <td>...</td>\n",
       "      <td>...</td>\n",
       "    </tr>\n",
       "    <tr>\n",
       "      <th>10</th>\n",
       "      <td>12/24</td>\n",
       "      <td>Backend Engineer (Python)─ 後端工程師 (Python)</td>\n",
       "      <td>英屬開曼群島商萬里雲互聯股份有限公司台灣分公司</td>\n",
       "      <td>待遇面議</td>\n",
       "    </tr>\n",
       "    <tr>\n",
       "      <th>11</th>\n",
       "      <td>12/24</td>\n",
       "      <td>Python資深工程師</td>\n",
       "      <td>商智應用開發有限公司</td>\n",
       "      <td>待遇面議</td>\n",
       "    </tr>\n",
       "    <tr>\n",
       "      <th>3</th>\n",
       "      <td>12/24</td>\n",
       "      <td>python工程師</td>\n",
       "      <td>杰米創意有限公司</td>\n",
       "      <td>月薪32,000~70,000元</td>\n",
       "    </tr>\n",
       "    <tr>\n",
       "      <th>4</th>\n",
       "      <td>12/24</td>\n",
       "      <td>Full Stack Developer (Python)</td>\n",
       "      <td>雲端互動股份有限公司</td>\n",
       "      <td>待遇面議</td>\n",
       "    </tr>\n",
       "    <tr>\n",
       "      <th>2</th>\n",
       "      <td>12/24</td>\n",
       "      <td>Python 工程師 - 初階</td>\n",
       "      <td>台灣競遊智慧網路有限公司</td>\n",
       "      <td>月薪40,000~45,000元</td>\n",
       "    </tr>\n",
       "  </tbody>\n",
       "</table>\n",
       "<p>63 rows × 4 columns</p>\n",
       "</div>"
      ],
      "text/plain": [
       "     刊登日期                                                 職稱  \\\n",
       "0       -  SSD SOC Design Verification Engineer, (Princip...   \n",
       "1       -                                    DevOps Engineer   \n",
       "2       -                                          全端軟體開發工程師   \n",
       "15  10/07                                       python 後端工程師   \n",
       "6   11/04                         Software Engineer (Python)   \n",
       "..    ...                                                ...   \n",
       "10  12/24          Backend Engineer (Python)─ 後端工程師 (Python)   \n",
       "11  12/24                                        Python資深工程師   \n",
       "3   12/24                                          python工程師   \n",
       "4   12/24                      Full Stack Developer (Python)   \n",
       "2   12/24                                    Python 工程師 - 初階   \n",
       "\n",
       "                                                公司名稱                薪資  \n",
       "0   Western Digital_(HGST)新加坡商昱科環球儲存股份有限公司台灣分公司新竹營業所              待遇面議  \n",
       "1                              104人力銀行_一零四資訊科技股份有限公司              待遇面議  \n",
       "2                                           科熱臺灣有限公司              待遇面議  \n",
       "15                                         艾迪恩科技有限公司  月薪40,000~65,000元  \n",
       "6                               Viscovery_創意引晴股份有限公司              待遇面議  \n",
       "..                                               ...               ...  \n",
       "10                           英屬開曼群島商萬里雲互聯股份有限公司台灣分公司              待遇面議  \n",
       "11                                        商智應用開發有限公司              待遇面議  \n",
       "3                                           杰米創意有限公司  月薪32,000~70,000元  \n",
       "4                                         雲端互動股份有限公司              待遇面議  \n",
       "2                                       台灣競遊智慧網路有限公司  月薪40,000~45,000元  \n",
       "\n",
       "[63 rows x 4 columns]"
      ]
     },
     "execution_count": 4,
     "metadata": {},
     "output_type": "execute_result"
    }
   ],
   "source": [
    "df.sort_values('刊登日期')"
   ]
  },
  {
   "cell_type": "code",
   "execution_count": 9,
   "metadata": {},
   "outputs": [],
   "source": [
    "sqlite_path = './job.db'\n",
    "\n",
    "def save_to_sqlite(sqlite_path):\n",
    "    engine = sa.create_engine(f\"sqlite:///{sqlite_path}\")\n",
    "    df.to_sql('104', engine, if_exists=\"append\", index=False)"
   ]
  },
  {
   "cell_type": "code",
   "execution_count": 10,
   "metadata": {},
   "outputs": [],
   "source": [
    "save_to_sqlite(sqlite_path)"
   ]
  },
  {
   "cell_type": "code",
   "execution_count": null,
   "metadata": {},
   "outputs": [],
   "source": []
  },
  {
   "cell_type": "code",
   "execution_count": null,
   "metadata": {},
   "outputs": [],
   "source": []
  },
  {
   "cell_type": "code",
   "execution_count": null,
   "metadata": {},
   "outputs": [],
   "source": []
  },
  {
   "cell_type": "code",
   "execution_count": null,
   "metadata": {},
   "outputs": [],
   "source": []
  }
 ],
 "metadata": {
  "kernelspec": {
   "display_name": "Python 3",
   "language": "python",
   "name": "python3"
  },
  "language_info": {
   "codemirror_mode": {
    "name": "ipython",
    "version": 3
   },
   "file_extension": ".py",
   "mimetype": "text/x-python",
   "name": "python",
   "nbconvert_exporter": "python",
   "pygments_lexer": "ipython3",
   "version": "3.8.5"
  }
 },
 "nbformat": 4,
 "nbformat_minor": 4
}
